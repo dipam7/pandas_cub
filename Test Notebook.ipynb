{
 "cells": [
  {
   "cell_type": "markdown",
   "metadata": {},
   "source": [
    "# Test pandas_cub manually\n",
    "\n",
    "In this notebook, we will test pandas_cub manually."
   ]
  },
  {
   "cell_type": "code",
   "execution_count": 1,
   "metadata": {},
   "outputs": [
    {
     "data": {
      "text/plain": [
       "'/home/fractaluser/anaconda3/envs/pandas_cub/bin/python'"
      ]
     },
     "execution_count": 1,
     "metadata": {},
     "output_type": "execute_result"
    }
   ],
   "source": [
    "import sys\n",
    "sys.executable"
   ]
  },
  {
   "cell_type": "code",
   "execution_count": 2,
   "metadata": {},
   "outputs": [],
   "source": [
    "%load_ext autoreload\n",
    "%autoreload 2"
   ]
  },
  {
   "cell_type": "code",
   "execution_count": 3,
   "metadata": {},
   "outputs": [],
   "source": [
    "import numpy as np\n",
    "import pandas_cub as pdc\n",
    "import pandas_cub_final as pdcf\n",
    "import pandas as pd"
   ]
  },
  {
   "cell_type": "code",
   "execution_count": 8,
   "metadata": {},
   "outputs": [],
   "source": [
    "name = np.array(['Penelope', 'Niko', 'Eleni'])\n",
    "state = np.array(['Texas', 'California', 'Texas'])\n",
    "height = np.array([3.6, 3.5, 5.2])\n",
    "school = np.array([True, False, True])\n",
    "weight = np.array([45, 40, 130])\n",
    "\n",
    "data = {'name': name, 'state': state, 'height': height, \n",
    "        'school': school, 'weight': weight}\n",
    "\n",
    "df = pdc.DataFrame(data)\n",
    "df_final = pdcf.DataFrame(data)\n",
    "df_pandas = pd.DataFrame(data)"
   ]
  },
  {
   "cell_type": "code",
   "execution_count": 9,
   "metadata": {},
   "outputs": [
    {
     "data": {
      "text/html": [
       "<table><thead><tr><th></th><th>name      </th><th>state     </th><th>height    </th><th>school    </th><th>weight    </th></tr></thead><tbody><tr><td><strong>0</strong></td><td>Penelope  </td><td>Texas     </td><td>     3.600</td><td>True</td><td>        45</td></tr><tr><td><strong>1</strong></td><td>Niko      </td><td>California</td><td>     3.500</td><td>False</td><td>        40</td></tr><tr><td><strong>2</strong></td><td>Eleni     </td><td>Texas     </td><td>     5.200</td><td>True</td><td>       130</td></tr></tbody></table>"
      ],
      "text/plain": [
       "<pandas_cub.DataFrame at 0x7f74c7a86b70>"
      ]
     },
     "execution_count": 9,
     "metadata": {},
     "output_type": "execute_result"
    }
   ],
   "source": [
    "df"
   ]
  },
  {
   "cell_type": "code",
   "execution_count": 10,
   "metadata": {},
   "outputs": [
    {
     "data": {
      "text/html": [
       "<table><thead><tr><th></th><th>name      </th><th>state     </th><th>height    </th><th>school    </th><th>weight    </th></tr></thead><tbody><tr><td><strong>0</strong></td><td>Penelope  </td><td>Texas     </td><td>     3.600</td><td>True</td><td>        45</td></tr><tr><td><strong>1</strong></td><td>Niko      </td><td>California</td><td>     3.500</td><td>False</td><td>        40</td></tr><tr><td><strong>2</strong></td><td>Eleni     </td><td>Texas     </td><td>     5.200</td><td>True</td><td>       130</td></tr></tbody></table>"
      ],
      "text/plain": [
       "<pandas_cub_final.DataFrame at 0x7f74c7a86b00>"
      ]
     },
     "execution_count": 10,
     "metadata": {},
     "output_type": "execute_result"
    }
   ],
   "source": [
    "df_final"
   ]
  },
  {
   "cell_type": "code",
   "execution_count": 11,
   "metadata": {},
   "outputs": [
    {
     "data": {
      "text/html": [
       "<div>\n",
       "<style scoped>\n",
       "    .dataframe tbody tr th:only-of-type {\n",
       "        vertical-align: middle;\n",
       "    }\n",
       "\n",
       "    .dataframe tbody tr th {\n",
       "        vertical-align: top;\n",
       "    }\n",
       "\n",
       "    .dataframe thead th {\n",
       "        text-align: right;\n",
       "    }\n",
       "</style>\n",
       "<table border=\"1\" class=\"dataframe\">\n",
       "  <thead>\n",
       "    <tr style=\"text-align: right;\">\n",
       "      <th></th>\n",
       "      <th>name</th>\n",
       "      <th>state</th>\n",
       "      <th>height</th>\n",
       "      <th>school</th>\n",
       "      <th>weight</th>\n",
       "    </tr>\n",
       "  </thead>\n",
       "  <tbody>\n",
       "    <tr>\n",
       "      <th>0</th>\n",
       "      <td>Penelope</td>\n",
       "      <td>Texas</td>\n",
       "      <td>3.6</td>\n",
       "      <td>True</td>\n",
       "      <td>45</td>\n",
       "    </tr>\n",
       "    <tr>\n",
       "      <th>1</th>\n",
       "      <td>Niko</td>\n",
       "      <td>California</td>\n",
       "      <td>3.5</td>\n",
       "      <td>False</td>\n",
       "      <td>40</td>\n",
       "    </tr>\n",
       "    <tr>\n",
       "      <th>2</th>\n",
       "      <td>Eleni</td>\n",
       "      <td>Texas</td>\n",
       "      <td>5.2</td>\n",
       "      <td>True</td>\n",
       "      <td>130</td>\n",
       "    </tr>\n",
       "  </tbody>\n",
       "</table>\n",
       "</div>"
      ],
      "text/plain": [
       "       name       state  height  school  weight\n",
       "0  Penelope       Texas     3.6    True      45\n",
       "1      Niko  California     3.5   False      40\n",
       "2     Eleni       Texas     5.2    True     130"
      ]
     },
     "execution_count": 11,
     "metadata": {},
     "output_type": "execute_result"
    }
   ],
   "source": [
    "df_pandas"
   ]
  },
  {
   "cell_type": "markdown",
   "metadata": {},
   "source": [
    "1. Check data frame input types"
   ]
  },
  {
   "cell_type": "code",
   "execution_count": 12,
   "metadata": {},
   "outputs": [],
   "source": [
    "d = {10}"
   ]
  },
  {
   "cell_type": "code",
   "execution_count": 13,
   "metadata": {},
   "outputs": [
    {
     "ename": "TypeError",
     "evalue": "'data' must be a dictionary",
     "output_type": "error",
     "traceback": [
      "\u001b[0;31m---------------------------------------------------------------------------\u001b[0m",
      "\u001b[0;31mTypeError\u001b[0m                                 Traceback (most recent call last)",
      "\u001b[0;32m<ipython-input-13-eed82dc606db>\u001b[0m in \u001b[0;36m<module>\u001b[0;34m\u001b[0m\n\u001b[0;32m----> 1\u001b[0;31m \u001b[0mpdc\u001b[0m\u001b[0;34m.\u001b[0m\u001b[0mDataFrame\u001b[0m\u001b[0;34m(\u001b[0m\u001b[0md\u001b[0m\u001b[0;34m)\u001b[0m\u001b[0;34m\u001b[0m\u001b[0;34m\u001b[0m\u001b[0m\n\u001b[0m",
      "\u001b[0;32m~/Desktop/pandas_cub/pandas_cub/__init__.py\u001b[0m in \u001b[0;36m__init__\u001b[0;34m(self, data)\u001b[0m\n\u001b[1;32m     18\u001b[0m         \"\"\"\n\u001b[1;32m     19\u001b[0m         \u001b[0;31m# check for correct input types\u001b[0m\u001b[0;34m\u001b[0m\u001b[0;34m\u001b[0m\u001b[0;34m\u001b[0m\u001b[0m\n\u001b[0;32m---> 20\u001b[0;31m         \u001b[0mself\u001b[0m\u001b[0;34m.\u001b[0m\u001b[0m_check_input_types\u001b[0m\u001b[0;34m(\u001b[0m\u001b[0mdata\u001b[0m\u001b[0;34m)\u001b[0m\u001b[0;34m\u001b[0m\u001b[0;34m\u001b[0m\u001b[0m\n\u001b[0m\u001b[1;32m     21\u001b[0m \u001b[0;34m\u001b[0m\u001b[0m\n\u001b[1;32m     22\u001b[0m         \u001b[0;31m# check for equal array lengths\u001b[0m\u001b[0;34m\u001b[0m\u001b[0;34m\u001b[0m\u001b[0;34m\u001b[0m\u001b[0m\n",
      "\u001b[0;32m~/Desktop/pandas_cub/pandas_cub/__init__.py\u001b[0m in \u001b[0;36m_check_input_types\u001b[0;34m(self, data)\u001b[0m\n\u001b[1;32m     32\u001b[0m     \u001b[0;32mdef\u001b[0m \u001b[0m_check_input_types\u001b[0m\u001b[0;34m(\u001b[0m\u001b[0mself\u001b[0m\u001b[0;34m,\u001b[0m \u001b[0mdata\u001b[0m\u001b[0;34m)\u001b[0m\u001b[0;34m:\u001b[0m\u001b[0;34m\u001b[0m\u001b[0;34m\u001b[0m\u001b[0m\n\u001b[1;32m     33\u001b[0m         \u001b[0;32mif\u001b[0m \u001b[0;32mnot\u001b[0m \u001b[0misinstance\u001b[0m\u001b[0;34m(\u001b[0m\u001b[0mdata\u001b[0m\u001b[0;34m,\u001b[0m \u001b[0mdict\u001b[0m\u001b[0;34m)\u001b[0m\u001b[0;34m:\u001b[0m\u001b[0;34m\u001b[0m\u001b[0;34m\u001b[0m\u001b[0m\n\u001b[0;32m---> 34\u001b[0;31m             \u001b[0;32mraise\u001b[0m \u001b[0mTypeError\u001b[0m\u001b[0;34m(\u001b[0m\u001b[0;34m\"'data' must be a dictionary\"\u001b[0m\u001b[0;34m)\u001b[0m\u001b[0;34m\u001b[0m\u001b[0;34m\u001b[0m\u001b[0m\n\u001b[0m\u001b[1;32m     35\u001b[0m         \u001b[0;32mfor\u001b[0m \u001b[0mkey\u001b[0m\u001b[0;34m,\u001b[0m\u001b[0mvalue\u001b[0m \u001b[0;32min\u001b[0m \u001b[0mdata\u001b[0m\u001b[0;34m.\u001b[0m\u001b[0mitems\u001b[0m\u001b[0;34m(\u001b[0m\u001b[0;34m)\u001b[0m\u001b[0;34m:\u001b[0m\u001b[0;34m\u001b[0m\u001b[0;34m\u001b[0m\u001b[0m\n\u001b[1;32m     36\u001b[0m             \u001b[0;32mif\u001b[0m \u001b[0;32mnot\u001b[0m \u001b[0misinstance\u001b[0m\u001b[0;34m(\u001b[0m\u001b[0mkey\u001b[0m\u001b[0;34m,\u001b[0m \u001b[0mstr\u001b[0m\u001b[0;34m)\u001b[0m\u001b[0;34m:\u001b[0m\u001b[0;34m\u001b[0m\u001b[0;34m\u001b[0m\u001b[0m\n",
      "\u001b[0;31mTypeError\u001b[0m: 'data' must be a dictionary"
     ]
    }
   ],
   "source": [
    "pdc.DataFrame(d)"
   ]
  },
  {
   "cell_type": "code",
   "execution_count": null,
   "metadata": {},
   "outputs": [],
   "source": [
    "age = np.array([23])\n",
    "age"
   ]
  },
  {
   "cell_type": "code",
   "execution_count": null,
   "metadata": {},
   "outputs": [],
   "source": [
    "ages = np.arange(15).reshape(3,5)\n",
    "ages"
   ]
  },
  {
   "cell_type": "code",
   "execution_count": null,
   "metadata": {},
   "outputs": [],
   "source": [
    "d = {'dipam': age}\n",
    "d"
   ]
  },
  {
   "cell_type": "code",
   "execution_count": null,
   "metadata": {},
   "outputs": [],
   "source": [
    "pdc.DataFrame(d)"
   ]
  },
  {
   "cell_type": "markdown",
   "metadata": {},
   "source": [
    "2. Check array lengths"
   ]
  },
  {
   "cell_type": "code",
   "execution_count": null,
   "metadata": {},
   "outputs": [],
   "source": [
    "d = {'dipam': np.array([23,24]),\n",
    "    'saad': np.array([2,3])}"
   ]
  },
  {
   "cell_type": "code",
   "execution_count": null,
   "metadata": {},
   "outputs": [],
   "source": [
    "df = pdc.DataFrame(d)"
   ]
  },
  {
   "cell_type": "code",
   "execution_count": null,
   "metadata": {},
   "outputs": [],
   "source": [
    "len(df)"
   ]
  },
  {
   "cell_type": "code",
   "execution_count": null,
   "metadata": {},
   "outputs": [],
   "source": [
    "df.columns"
   ]
  },
  {
   "cell_type": "code",
   "execution_count": null,
   "metadata": {},
   "outputs": [],
   "source": [
    "df.columns = 3"
   ]
  },
  {
   "cell_type": "code",
   "execution_count": null,
   "metadata": {},
   "outputs": [],
   "source": [
    "df.columns = [1,2,3]"
   ]
  },
  {
   "cell_type": "code",
   "execution_count": null,
   "metadata": {},
   "outputs": [],
   "source": [
    "df.columns = [1,2]"
   ]
  },
  {
   "cell_type": "code",
   "execution_count": null,
   "metadata": {},
   "outputs": [],
   "source": [
    "df.columns = ['a', 'a']"
   ]
  },
  {
   "cell_type": "code",
   "execution_count": null,
   "metadata": {},
   "outputs": [],
   "source": [
    "df.columns"
   ]
  },
  {
   "cell_type": "code",
   "execution_count": null,
   "metadata": {},
   "outputs": [],
   "source": [
    "df.columns"
   ]
  },
  {
   "cell_type": "markdown",
   "metadata": {},
   "source": [
    "Set new column names"
   ]
  },
  {
   "cell_type": "code",
   "execution_count": null,
   "metadata": {},
   "outputs": [],
   "source": []
  },
  {
   "cell_type": "code",
   "execution_count": 4,
   "metadata": {},
   "outputs": [],
   "source": [
    "d = {'dipam': np.array([23,24,25]),'saad': np.array([1,2,3]), 'sonam': np.array([10,20,30])}"
   ]
  },
  {
   "cell_type": "code",
   "execution_count": 5,
   "metadata": {},
   "outputs": [
    {
     "data": {
      "text/plain": [
       "{'dipam': array([23, 24, 25]),\n",
       " 'saad': array([1, 2, 3]),\n",
       " 'sonam': array([10, 20, 30])}"
      ]
     },
     "execution_count": 5,
     "metadata": {},
     "output_type": "execute_result"
    }
   ],
   "source": [
    "d"
   ]
  },
  {
   "cell_type": "code",
   "execution_count": 6,
   "metadata": {},
   "outputs": [
    {
     "data": {
      "text/plain": [
       "'i'"
      ]
     },
     "execution_count": 6,
     "metadata": {},
     "output_type": "execute_result"
    }
   ],
   "source": [
    "d['dipam'][0].dtype.kind"
   ]
  },
  {
   "cell_type": "code",
   "execution_count": 7,
   "metadata": {},
   "outputs": [],
   "source": [
    "df = pdc.DataFrame(d)"
   ]
  },
  {
   "cell_type": "code",
   "execution_count": 8,
   "metadata": {},
   "outputs": [
    {
     "data": {
      "text/html": [
       "<table><thead><tr><th></th><th>dipam     </th><th>saad      </th><th>sonam     </th></tr></thead><tbody><tr><td><strong>0</strong></td><td>        23</td><td>         1</td><td>        10</td></tr><tr><td><strong>1</strong></td><td>        24</td><td>         2</td><td>        20</td></tr><tr><td><strong>2</strong></td><td>        25</td><td>         3</td><td>        30</td></tr></tbody></table>"
      ],
      "text/plain": [
       "<pandas_cub.DataFrame at 0x7fe1d82d9908>"
      ]
     },
     "execution_count": 8,
     "metadata": {},
     "output_type": "execute_result"
    }
   ],
   "source": [
    "df"
   ]
  },
  {
   "cell_type": "code",
   "execution_count": 9,
   "metadata": {},
   "outputs": [
    {
     "data": {
      "text/plain": [
       "3"
      ]
     },
     "execution_count": 9,
     "metadata": {},
     "output_type": "execute_result"
    }
   ],
   "source": [
    "len(df)"
   ]
  },
  {
   "cell_type": "code",
   "execution_count": 10,
   "metadata": {},
   "outputs": [
    {
     "data": {
      "text/plain": [
       "['dipam', 'saad', 'sonam']"
      ]
     },
     "execution_count": 10,
     "metadata": {},
     "output_type": "execute_result"
    }
   ],
   "source": [
    "df.columns"
   ]
  },
  {
   "cell_type": "code",
   "execution_count": 11,
   "metadata": {},
   "outputs": [],
   "source": [
    "# df.columns = ['a', 'b']"
   ]
  },
  {
   "cell_type": "code",
   "execution_count": 12,
   "metadata": {},
   "outputs": [],
   "source": [
    "# df.columns"
   ]
  },
  {
   "cell_type": "code",
   "execution_count": 13,
   "metadata": {},
   "outputs": [
    {
     "data": {
      "text/plain": [
       "(3, 3)"
      ]
     },
     "execution_count": 13,
     "metadata": {},
     "output_type": "execute_result"
    }
   ],
   "source": [
    "df.shape"
   ]
  },
  {
   "cell_type": "code",
   "execution_count": 14,
   "metadata": {},
   "outputs": [
    {
     "data": {
      "text/html": [
       "<table><thead><tr><th></th><th>dipam     </th><th>saad      </th><th>sonam     </th></tr></thead><tbody><tr><td><strong>0</strong></td><td>        23</td><td>         1</td><td>        10</td></tr><tr><td><strong>1</strong></td><td>        24</td><td>         2</td><td>        20</td></tr><tr><td><strong>2</strong></td><td>        25</td><td>         3</td><td>        30</td></tr></tbody></table>"
      ],
      "text/plain": [
       "<pandas_cub.DataFrame at 0x7fe1d82d9908>"
      ]
     },
     "execution_count": 14,
     "metadata": {},
     "output_type": "execute_result"
    }
   ],
   "source": [
    "df"
   ]
  },
  {
   "cell_type": "code",
   "execution_count": 15,
   "metadata": {},
   "outputs": [
    {
     "data": {
      "text/plain": [
       "array([[23,  1, 10],\n",
       "       [24,  2, 20],\n",
       "       [25,  3, 30]])"
      ]
     },
     "execution_count": 15,
     "metadata": {},
     "output_type": "execute_result"
    }
   ],
   "source": [
    "df.values"
   ]
  },
  {
   "cell_type": "code",
   "execution_count": 16,
   "metadata": {},
   "outputs": [
    {
     "data": {
      "text/html": [
       "<table><thead><tr><th></th><th>Column Name</th><th>Data Type </th></tr></thead><tbody><tr><td><strong>0</strong></td><td>dipam     </td><td>int       </td></tr><tr><td><strong>1</strong></td><td>saad      </td><td>int       </td></tr><tr><td><strong>2</strong></td><td>sonam     </td><td>int       </td></tr></tbody></table>"
      ],
      "text/plain": [
       "<pandas_cub.DataFrame at 0x7fe1d82f0b00>"
      ]
     },
     "execution_count": 16,
     "metadata": {},
     "output_type": "execute_result"
    }
   ],
   "source": [
    "df.dtypes"
   ]
  },
  {
   "cell_type": "code",
   "execution_count": 17,
   "metadata": {},
   "outputs": [],
   "source": [
    "# df[1]"
   ]
  },
  {
   "cell_type": "code",
   "execution_count": 18,
   "metadata": {},
   "outputs": [
    {
     "data": {
      "text/html": [
       "<table><thead><tr><th></th><th>dipam     </th></tr></thead><tbody><tr><td><strong>0</strong></td><td>        23</td></tr><tr><td><strong>1</strong></td><td>        24</td></tr><tr><td><strong>2</strong></td><td>        25</td></tr></tbody></table>"
      ],
      "text/plain": [
       "<pandas_cub.DataFrame at 0x7fe1d82fa358>"
      ]
     },
     "execution_count": 18,
     "metadata": {},
     "output_type": "execute_result"
    }
   ],
   "source": [
    "df['dipam']"
   ]
  },
  {
   "cell_type": "code",
   "execution_count": 19,
   "metadata": {},
   "outputs": [
    {
     "data": {
      "text/html": [
       "<table><thead><tr><th></th><th>dipam     </th><th>sonam     </th></tr></thead><tbody><tr><td><strong>0</strong></td><td>        23</td><td>        10</td></tr><tr><td><strong>1</strong></td><td>        24</td><td>        20</td></tr><tr><td><strong>2</strong></td><td>        25</td><td>        30</td></tr></tbody></table>"
      ],
      "text/plain": [
       "<pandas_cub.DataFrame at 0x7fe1d82fa748>"
      ]
     },
     "execution_count": 19,
     "metadata": {},
     "output_type": "execute_result"
    }
   ],
   "source": [
    "df[['dipam', 'sonam']]"
   ]
  },
  {
   "cell_type": "code",
   "execution_count": 20,
   "metadata": {},
   "outputs": [],
   "source": [
    "new_df = {'a': np.array([True, False, True])}"
   ]
  },
  {
   "cell_type": "code",
   "execution_count": 21,
   "metadata": {},
   "outputs": [
    {
     "data": {
      "text/html": [
       "<table><thead><tr><th></th><th>dipam     </th><th>saad      </th><th>sonam     </th></tr></thead><tbody><tr><td><strong>0</strong></td><td>        23</td><td>         1</td><td>        10</td></tr><tr><td><strong>1</strong></td><td>        25</td><td>         3</td><td>        30</td></tr></tbody></table>"
      ],
      "text/plain": [
       "<pandas_cub.DataFrame at 0x7fe1d82fae10>"
      ]
     },
     "execution_count": 21,
     "metadata": {},
     "output_type": "execute_result"
    }
   ],
   "source": [
    "df[pdc.DataFrame(new_df)]"
   ]
  },
  {
   "cell_type": "code",
   "execution_count": 22,
   "metadata": {},
   "outputs": [],
   "source": [
    "df['new_col'] = np.array([5,6,7])"
   ]
  },
  {
   "cell_type": "code",
   "execution_count": 23,
   "metadata": {},
   "outputs": [
    {
     "data": {
      "text/html": [
       "<table><thead><tr><th></th><th>dipam     </th><th>saad      </th><th>sonam     </th><th>new_col   </th></tr></thead><tbody><tr><td><strong>0</strong></td><td>        23</td><td>         1</td><td>        10</td><td>         5</td></tr><tr><td><strong>1</strong></td><td>        24</td><td>         2</td><td>        20</td><td>         6</td></tr><tr><td><strong>2</strong></td><td>        25</td><td>         3</td><td>        30</td><td>         7</td></tr></tbody></table>"
      ],
      "text/plain": [
       "<pandas_cub.DataFrame at 0x7fe1d82d9908>"
      ]
     },
     "execution_count": 23,
     "metadata": {},
     "output_type": "execute_result"
    }
   ],
   "source": [
    "df"
   ]
  },
  {
   "cell_type": "code",
   "execution_count": 24,
   "metadata": {},
   "outputs": [],
   "source": [
    "df['saad'] = np.array([40,50,60])"
   ]
  },
  {
   "cell_type": "code",
   "execution_count": 25,
   "metadata": {},
   "outputs": [
    {
     "data": {
      "text/html": [
       "<table><thead><tr><th></th><th>dipam     </th><th>saad      </th><th>sonam     </th><th>new_col   </th></tr></thead><tbody><tr><td><strong>0</strong></td><td>        23</td><td>        40</td><td>        10</td><td>         5</td></tr><tr><td><strong>1</strong></td><td>        24</td><td>        50</td><td>        20</td><td>         6</td></tr><tr><td><strong>2</strong></td><td>        25</td><td>        60</td><td>        30</td><td>         7</td></tr></tbody></table>"
      ],
      "text/plain": [
       "<pandas_cub.DataFrame at 0x7fe1d82d9908>"
      ]
     },
     "execution_count": 25,
     "metadata": {},
     "output_type": "execute_result"
    }
   ],
   "source": [
    "df"
   ]
  },
  {
   "cell_type": "code",
   "execution_count": 26,
   "metadata": {},
   "outputs": [],
   "source": [
    "t = {'bad_col': np.array([1,2,3])}"
   ]
  },
  {
   "cell_type": "code",
   "execution_count": 27,
   "metadata": {},
   "outputs": [
    {
     "data": {
      "text/plain": [
       "{'bad_col': array([1, 2, 3])}"
      ]
     },
     "execution_count": 27,
     "metadata": {},
     "output_type": "execute_result"
    }
   ],
   "source": [
    "t"
   ]
  },
  {
   "cell_type": "code",
   "execution_count": 28,
   "metadata": {},
   "outputs": [
    {
     "data": {
      "text/html": [
       "<table><thead><tr><th></th><th>bad_col   </th></tr></thead><tbody><tr><td><strong>0</strong></td><td>         1</td></tr><tr><td><strong>1</strong></td><td>         2</td></tr><tr><td><strong>2</strong></td><td>         3</td></tr></tbody></table>"
      ],
      "text/plain": [
       "<pandas_cub.DataFrame at 0x7fe1d82d9cf8>"
      ]
     },
     "execution_count": 28,
     "metadata": {},
     "output_type": "execute_result"
    }
   ],
   "source": [
    "temp = pdc.DataFrame(t)\n",
    "temp"
   ]
  },
  {
   "cell_type": "code",
   "execution_count": 29,
   "metadata": {},
   "outputs": [],
   "source": [
    "# type(temp.values[0][0])"
   ]
  },
  {
   "cell_type": "code",
   "execution_count": 30,
   "metadata": {},
   "outputs": [
    {
     "data": {
      "text/html": [
       "<table><thead><tr><th></th><th>dipam     </th><th>saad      </th><th>sonam     </th><th>new_col   </th></tr></thead><tbody><tr><td><strong>0</strong></td><td>        23</td><td>        40</td><td>        10</td><td>         5</td></tr><tr><td><strong>1</strong></td><td>        24</td><td>        50</td><td>        20</td><td>         6</td></tr><tr><td><strong>2</strong></td><td>        25</td><td>        60</td><td>        30</td><td>         7</td></tr></tbody></table>"
      ],
      "text/plain": [
       "<pandas_cub.DataFrame at 0x7fe1d82d9908>"
      ]
     },
     "execution_count": 30,
     "metadata": {},
     "output_type": "execute_result"
    }
   ],
   "source": [
    "df"
   ]
  },
  {
   "cell_type": "code",
   "execution_count": 31,
   "metadata": {},
   "outputs": [],
   "source": [
    "df['another_col'] = temp"
   ]
  },
  {
   "cell_type": "code",
   "execution_count": 32,
   "metadata": {},
   "outputs": [
    {
     "data": {
      "text/html": [
       "<table><thead><tr><th></th><th>Column Name</th><th>Data Type </th></tr></thead><tbody><tr><td><strong>0</strong></td><td>dipam     </td><td>int       </td></tr><tr><td><strong>1</strong></td><td>saad      </td><td>int       </td></tr><tr><td><strong>2</strong></td><td>sonam     </td><td>int       </td></tr><tr><td><strong>3</strong></td><td>new_col   </td><td>int       </td></tr><tr><td><strong>4</strong></td><td>another_col</td><td>int       </td></tr></tbody></table>"
      ],
      "text/plain": [
       "<pandas_cub.DataFrame at 0x7fe1d8303908>"
      ]
     },
     "execution_count": 32,
     "metadata": {},
     "output_type": "execute_result"
    }
   ],
   "source": [
    "df.dtypes"
   ]
  },
  {
   "cell_type": "code",
   "execution_count": 33,
   "metadata": {},
   "outputs": [
    {
     "data": {
      "text/html": [
       "<table><thead><tr><th></th><th>dipam     </th><th>saad      </th><th>sonam     </th><th>new_col   </th><th>another_col</th></tr></thead><tbody><tr><td><strong>0</strong></td><td>        23</td><td>        40</td><td>        10</td><td>         5</td><td>         1</td></tr><tr><td><strong>1</strong></td><td>        24</td><td>        50</td><td>        20</td><td>         6</td><td>         2</td></tr><tr><td><strong>2</strong></td><td>        25</td><td>        60</td><td>        30</td><td>         7</td><td>         3</td></tr></tbody></table>"
      ],
      "text/plain": [
       "<pandas_cub.DataFrame at 0x7fe1d82d9908>"
      ]
     },
     "execution_count": 33,
     "metadata": {},
     "output_type": "execute_result"
    }
   ],
   "source": [
    "df"
   ]
  },
  {
   "cell_type": "code",
   "execution_count": 35,
   "metadata": {},
   "outputs": [],
   "source": [
    "df['const_col'] = 7"
   ]
  },
  {
   "cell_type": "code",
   "execution_count": 36,
   "metadata": {},
   "outputs": [
    {
     "data": {
      "text/html": [
       "<table><thead><tr><th></th><th>dipam     </th><th>saad      </th><th>sonam     </th><th>new_col   </th><th>another_col</th><th>const_col </th></tr></thead><tbody><tr><td><strong>0</strong></td><td>        23</td><td>        40</td><td>        10</td><td>         5</td><td>         1</td><td>         7</td></tr><tr><td><strong>1</strong></td><td>        24</td><td>        50</td><td>        20</td><td>         6</td><td>         2</td><td>         7</td></tr><tr><td><strong>2</strong></td><td>        25</td><td>        60</td><td>        30</td><td>         7</td><td>         3</td><td>         7</td></tr></tbody></table>"
      ],
      "text/plain": [
       "<pandas_cub.DataFrame at 0x7fe1d82d9908>"
      ]
     },
     "execution_count": 36,
     "metadata": {},
     "output_type": "execute_result"
    }
   ],
   "source": [
    "df"
   ]
  },
  {
   "cell_type": "code",
   "execution_count": 37,
   "metadata": {},
   "outputs": [],
   "source": [
    "df['const_bool'] = True"
   ]
  },
  {
   "cell_type": "code",
   "execution_count": 38,
   "metadata": {},
   "outputs": [],
   "source": [
    "df['const_float'] = 3.14"
   ]
  },
  {
   "cell_type": "code",
   "execution_count": 39,
   "metadata": {},
   "outputs": [],
   "source": [
    "df['const_str'] = 'names'"
   ]
  },
  {
   "cell_type": "code",
   "execution_count": 40,
   "metadata": {},
   "outputs": [
    {
     "data": {
      "text/html": [
       "<table><thead><tr><th></th><th>dipam     </th><th>saad      </th><th>sonam     </th><th>new_col   </th><th>another_col</th><th>const_col </th><th>const_bool</th><th>const_float</th><th>const_str </th></tr></thead><tbody><tr><td><strong>0</strong></td><td>        23</td><td>        40</td><td>        10</td><td>         5</td><td>         1</td><td>         7</td><td>True</td><td>     3.140</td><td>names     </td></tr><tr><td><strong>1</strong></td><td>        24</td><td>        50</td><td>        20</td><td>         6</td><td>         2</td><td>         7</td><td>True</td><td>     3.140</td><td>names     </td></tr><tr><td><strong>2</strong></td><td>        25</td><td>        60</td><td>        30</td><td>         7</td><td>         3</td><td>         7</td><td>True</td><td>     3.140</td><td>names     </td></tr></tbody></table>"
      ],
      "text/plain": [
       "<pandas_cub.DataFrame at 0x7fe1d82d9908>"
      ]
     },
     "execution_count": 40,
     "metadata": {},
     "output_type": "execute_result"
    }
   ],
   "source": [
    "df"
   ]
  },
  {
   "cell_type": "code",
   "execution_count": null,
   "metadata": {},
   "outputs": [],
   "source": []
  }
 ],
 "metadata": {
  "kernelspec": {
   "display_name": "Python 3",
   "language": "python",
   "name": "python3"
  },
  "language_info": {
   "codemirror_mode": {
    "name": "ipython",
    "version": 3
   },
   "file_extension": ".py",
   "mimetype": "text/x-python",
   "name": "python",
   "nbconvert_exporter": "python",
   "pygments_lexer": "ipython3",
   "version": "3.6.8"
  }
 },
 "nbformat": 4,
 "nbformat_minor": 2
}
